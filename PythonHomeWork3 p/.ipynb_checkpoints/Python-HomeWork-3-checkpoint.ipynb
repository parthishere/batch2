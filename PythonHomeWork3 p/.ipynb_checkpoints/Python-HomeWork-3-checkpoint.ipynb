{
 "cells": [
  {
   "cell_type": "markdown",
   "id": "113bfaf9-424b-4dd5-ad60-47893c7f70e9",
   "metadata": {},
   "source": [
    "<h1><b>Question 1</b></h1>\n",
    "\n",
    "(4 pts) Write a python program that does the following:\n",
    "1. Reads a ' numbers.txt' file (2 lines at a time) that contains numbers (integers)\n",
    "2. Reads a ' operators.txt' file (I line at a time) that contains operators\n",
    "3. Applies the operator to the two numbers just read\n",
    "4. Displays the result to a file 'output.txt'"
   ]
  },
  {
   "cell_type": "code",
   "execution_count": 35,
   "id": "76716ab8-d9fe-4747-9073-b302f280c49c",
   "metadata": {},
   "outputs": [
    {
     "name": "stdout",
     "output_type": "stream",
     "text": [
      "You can find Output.txt file in same folder\n"
     ]
    }
   ],
   "source": [
    "# Opening Files\n",
    "numbers_file = open('numbers.txt', \"r\") #numbers.txt with read parameter\n",
    "operators_file = open('operators.txt', \"r\") #operators.txt with read parameter\n",
    "output_file = open(\"output.txt\", \"w+\") #output.txt with append parameter\n",
    "\n",
    "def main(numbers_file, operators_file):\n",
    "    numbers_list = numbers_file.readlines()\n",
    "    operators_list = operators_file.readlines()\n",
    "    index = 0\n",
    "    number_one = 0\n",
    "    number_two = 1\n",
    "    \n",
    "    \n",
    "    try:\n",
    "        while index <= len(operators_list):\n",
    "\n",
    "            first_number = numbers_list[number_one]\n",
    "            # Here next() function of python gives next line of file \n",
    "            # Here is documentation of next function :\"https://docs.python.org/3/library/functions.html#next\"\n",
    "            second_number = numbers_list[number_two]\n",
    "\n",
    "            try:\n",
    "                # python String.strip() function will remove leading and trailing whitespaces.\n",
    "                output_string = first_number.strip() +operators_list[index].strip() +second_number.strip()\n",
    "\n",
    "                # Writing to output file\n",
    "                output_file.write(output_string)\n",
    "                output_file.write(\" = \")\n",
    "\n",
    "                # python eval will execute a string as if it is a Python code.\n",
    "                # Documentation: https://docs.python.org/3/library/functions.html#eval\n",
    "                output = eval(output_string)\n",
    "                output_file.write(str(output))\n",
    "\n",
    "            except ZeroDivisionError: # division by zero occured\n",
    "                output_file.write(\" - Division by zero not allowed (ZeroDivisionError)\")\n",
    "                index -= 1\n",
    "\n",
    "            except ValueError:\n",
    "                output_file.write(\" - Division cannot be performed (ValueError)\")\n",
    "                index -= 1\n",
    "\n",
    "            except NameError: # String or other characters \n",
    "                output_file.write(\" - Division cannot be performed (NameError)\")\n",
    "                index -= 1\n",
    "\n",
    "            finally:\n",
    "                output_file.write(\"\\n\")\n",
    "                number_two += 2\n",
    "                number_one += 2\n",
    "                if number_two > len(numbers_list) -1:\n",
    "                    break\n",
    "\n",
    "            index += 1\n",
    "\n",
    "\n",
    "\n",
    "    except Exception as e:\n",
    "        # This means either numbers or operators file does not contains enough lines to interpret\n",
    "        print(\"File Should Contain Even Rows of Numbers\")\n",
    "        print(e)\n",
    "\n",
    "    finally:\n",
    "        # Closing Files\n",
    "        numbers_file.close()\n",
    "        output_file.write(\"\\n\")\n",
    "        output_file.close()\n",
    "        operators_file.close()\n",
    "        print(\"You can find Output.txt file in same folder\") \n",
    "\n",
    "main(numbers_file, operators_file)"
   ]
  },
  {
   "cell_type": "markdown",
   "id": "45282a9f-726c-4446-8f33-76b1d78b0468",
   "metadata": {},
   "source": [
    "<h1><b>Question 2</b></h1>\n",
    "\n",
    "(4 pts) Write a python program that does the following:\n",
    "1. Reads a ' input.txt' file that contains numbers and sentences\n",
    "2. Computes and displays the average of numerical values to a file 'output. txt'.\n",
    "3. Joins sentences using a'. , (dot+ space) separator, and displays joined text to a file\n",
    "'output.bet'."
   ]
  },
  {
   "cell_type": "code",
   "execution_count": 34,
   "id": "95f90908-49d9-4225-b752-636654c17304",
   "metadata": {},
   "outputs": [
    {
     "name": "stdout",
     "output_type": "stream",
     "text": [
      "You can find Output.txt file in same folder\n"
     ]
    }
   ],
   "source": [
    "input_file = open(\"input.txt\", \"r\")\n",
    "saperator = \". \"\n",
    "\n",
    "# array of all numeric values in file\n",
    "numbers = []\n",
    "# Strings in files\n",
    "strings = []\n",
    "# Counts of numeric values in files \n",
    "numeric_count  = 0\n",
    "\n",
    "\n",
    "for line in input_file:\n",
    "    # To remove white space in lines\n",
    "    line = line.strip()\n",
    "    \n",
    "    # isdigit function returns True if String can be converted in to integer \n",
    "    if line.isdigit():\n",
    "        # means string is digit\n",
    "        numbers.append(float(line))\n",
    "        numeric_count += 1\n",
    "        \n",
    "    else:\n",
    "        # string\n",
    "        strings.append(line)\n",
    "        a = saperator.join(strings)\n",
    "        \n",
    "a += \".\"\n",
    "\n",
    "\n",
    "# opening output file\n",
    "output_file = open(\"output.txt\", \"w+\")\n",
    "\n",
    "output_file.write(\"Number of numeric values in file is:\\n\")\n",
    "output_file.write(str(numeric_count))\n",
    "output_file.write(\"\\n\")\n",
    "\n",
    "output_file.write(\"\\nThe average of numerical values in the file is:\\n\")\n",
    "avg = sum(numbers) / len(numbers)\n",
    "output_file.write(str(avg))\n",
    "output_file.write(\"\\n\")\n",
    "\n",
    "output_file.write(\"\\nThe concatenated text in the file is:\\n\")\n",
    "output_file.write(a)\n",
    "output_file.write(\"\\n\")\n",
    "\n",
    "output_file.write(\"\\nThe length of concatenated text in the file is:\\n\")\n",
    "output_file.write(str(len(a)))\n",
    "output_file.write(\"\\n\")\n",
    "\n",
    "\n",
    "# Closing Files\n",
    "\n",
    "input_file.close()\n",
    "output_file.close()\n",
    "\n",
    "print(\"You can find Output.txt file in same folder\") "
   ]
  },
  {
   "cell_type": "markdown",
   "id": "5972aa1f-93ab-4acd-9650-ea06b94cd01e",
   "metadata": {},
   "source": [
    "<h1><b>Question 3</b></h1>\n",
    "(3 pts).\n",
    "\n",
    "We are going to implement the function inverse() that converts list of given integers to its\n",
    "inverse. The inverse or reciprocal of a number xis denoted by f (x) = .!._\n",
    "X\n",
    "Write a program that asks the user to enter a list of integers. The program should:\n",
    "\n",
    "l . Compute the inverse of each element in the list\n",
    "\n",
    "2. Raise and catch an exception if any value entered is non-integer. (the program should not\n",
    "exit).\n",
    "\n",
    "3. Implement your logic within a function. Make exception handling at the level of the\n",
    "function.\n",
    "\n",
    "4. Loop continuously asking the user if they wish to continue (yes/no). If no is entered, the\n",
    "program exits. Other acceptable input is y/n. Anything besides yes/no or y/n (lower-case\n",
    "characters only), should ask the user again for input."
   ]
  },
  {
   "cell_type": "code",
   "execution_count": 9,
   "id": "170c6f7d-d6cc-4470-a298-92098d6862c0",
   "metadata": {},
   "outputs": [
    {
     "name": "stdin",
     "output_type": "stream",
     "text": [
      "\n",
      "Please Enter List of Numbers Seprated by commas:  8\n"
     ]
    },
    {
     "name": "stdout",
     "output_type": "stream",
     "text": [
      "The entry is incorrect. Please enter a list that contains more than 1 element.\n",
      "\n"
     ]
    },
    {
     "name": "stdin",
     "output_type": "stream",
     "text": [
      "\n",
      "Do you want to continue? (yes/no):  N\n",
      "\n",
      "Do you want to continue? (yes/no):  sure\n",
      "\n",
      "Do you want to continue? (yes/no):  Y\n",
      "\n",
      "Do you want to continue? (yes/no):  yes\n",
      "\n",
      "Please Enter List of Numbers Seprated by commas:  a, 4, -1, 0\n"
     ]
    },
    {
     "name": "stdout",
     "output_type": "stream",
     "text": [
      "The entry is :a\n",
      "Oops! Exception <class 'ValueError'> occurred.\n",
      "The entry is : 4\n",
      "The inverse of  4.0  is  0.25\n",
      "The entry is : -1\n",
      "The inverse of  -1.0  is  -1.0\n",
      "The entry is : 0\n",
      "Oops! Exception <class 'ZeroDivisionError'> occurred.\n"
     ]
    },
    {
     "name": "stdin",
     "output_type": "stream",
     "text": [
      "\n",
      "Do you want to continue? (yes/no):  N\n",
      "\n",
      "Do you want to continue? (yes/no):  nah\n",
      "\n",
      "Do you want to continue? (yes/no):  yup\n",
      "\n",
      "Do you want to continue? (yes/no):  sure\n",
      "\n",
      "Do you want to continue? (yes/no):  yes\n",
      "\n",
      "Please Enter List of Numbers Seprated by commas:  2,5\n"
     ]
    },
    {
     "name": "stdout",
     "output_type": "stream",
     "text": [
      "The entry is :2\n",
      "The inverse of  2.0  is  0.5\n",
      "The entry is :5\n",
      "The inverse of  5.0  is  0.2\n"
     ]
    },
    {
     "name": "stdin",
     "output_type": "stream",
     "text": [
      "\n",
      "Do you want to continue? (yes/no):  no\n"
     ]
    }
   ],
   "source": [
    "class StopItration(Exception):\n",
    "    pass\n",
    "\n",
    "def inverse(x):\n",
    "    # inverse of value\n",
    "    print(\"The entry is :\"+ x)\n",
    "    one_upon_x = None\n",
    "    try:\n",
    "        x = float(x)\n",
    "        one_upon_x = 1.0 / x\n",
    "    except ValueError:\n",
    "        print(\"Oops! Exception <class 'ValueError'> occurred.\")\n",
    "    except ZeroDivisionError:\n",
    "        print(\"Oops! Exception <class 'ZeroDivisionError'> occurred.\")\n",
    "    \n",
    "    # this will print only if value is valid\n",
    "    if one_upon_x is not None:\n",
    "        print(\"The inverse of \",x,\" is \",one_upon_x)\n",
    "        \n",
    "    return str(one_upon_x), str(x)\n",
    "\n",
    "\n",
    "def enter_number():\n",
    "    # Input taking function with more than one element required \n",
    "    list_of_numbers = input(\"\\nPlease Enter List of Numbers Seprated by commas: \").split(\",\")\n",
    "    length_of_numbers = len(list_of_numbers)\n",
    "    if length_of_numbers <= 1:\n",
    "        print(\"The entry is incorrect. Please enter a list that contains more than 1 element.\\n\")\n",
    "        return None\n",
    "    return list_of_numbers\n",
    "        \n",
    "        \n",
    "def run_loop():\n",
    "    # main loop which will goes forever until breaks\n",
    "    run_loop = True\n",
    "    ask_input = True\n",
    "    \n",
    "    while run_loop:\n",
    "        \n",
    "        if ask_input:\n",
    "            list_of_numbers = enter_number()\n",
    "            if list_of_numbers is None:\n",
    "                pass\n",
    "            else:\n",
    "                for num in list_of_numbers:\n",
    "                    #function\n",
    "                    inverse(num)\n",
    "\n",
    "        conti = input(\"\\nDo you want to continue? (yes/no): \")\n",
    "        if conti == \"no\" or conti == \"n\":\n",
    "            run_loop = False\n",
    "        elif conti == \"yes\" or conti == \"y\":\n",
    "            ask_input = True\n",
    "        else:\n",
    "            ask_input = False\n",
    "        \n",
    "  \n",
    "\n",
    "run_loop()"
   ]
  },
  {
   "cell_type": "markdown",
   "id": "aaeb585d-f27d-4ae3-9bee-7fb16a6a019d",
   "metadata": {},
   "source": [
    "<h1><b>Question 4</b></h1>\n",
    "\n",
    "(4 pts) We are going to experiment with the absolute function abs() that converts a number to its\n",
    "absolute value.\n",
    "Write a program that asks the user to enter a number. The program should:\n",
    "\n",
    "1- Catch a python exception if the value entered contains just alphabetic characters (no\n",
    "special characters) e.g. ' abc' or '22abc' . In this case, the user is prompted to re-enter a\n",
    "valid number (the program should not exit).\n",
    "\n",
    "2- Raise and catch a user-defined exceptio,n <Type l> if the value entered contains just\n",
    "special characters (no alphabetic characters) e.g. ' ! *' or '22 ! * ' . In this case, the user is\n",
    "prompted to re-enter a valid number (the program should not exit).\n",
    "    \n",
    "3- Raise and catch a user-defined exception <Type 2> if the value entered is not-numerical\n",
    "(contains both strings and special characters) e.g. ' !$55apple' or ' **&car'. In this\n",
    "case, the user is prompted to re-enter a valid number (the program should not exit).\n",
    "\n",
    "4- Implement your logic within a function. Make exception handling at the level of the\n",
    "function.\n",
    "\n",
    "5- Loop continuously asking the user if they wish to continue (yes/no). If no is entered, the\n",
    "program exits. Other acceptable input is yin. Anything besides yes/no or y/n (lower-case\n",
    "characters only), should ask the user again for input.\n",
    "\n",
    "6- Note: Your code can call the built-in abs() function."
   ]
  },
  {
   "cell_type": "code",
   "execution_count": 36,
   "id": "b21fee7c-6a7d-4522-b2a3-d0310f45fe38",
   "metadata": {},
   "outputs": [
    {
     "name": "stdin",
     "output_type": "stream",
     "text": [
      "Please enter a number:  hello\n"
     ]
    },
    {
     "name": "stdout",
     "output_type": "stream",
     "text": [
      "Caught a python exception.\n",
      "\n"
     ]
    },
    {
     "name": "stdin",
     "output_type": "stream",
     "text": [
      "Please re-enter a valid number:  /!hi\n"
     ]
    },
    {
     "name": "stdout",
     "output_type": "stream",
     "text": [
      "Caught a user-defined <Type 2> exception.\n",
      "\n"
     ]
    },
    {
     "name": "stdin",
     "output_type": "stream",
     "text": [
      "Please re-enter a valid number:  -20\n"
     ]
    },
    {
     "name": "stdout",
     "output_type": "stream",
     "text": [
      "The absolute value of your number is: 20\n"
     ]
    },
    {
     "name": "stdin",
     "output_type": "stream",
     "text": [
      "\n",
      "Do you want to continue? (yes/no):  YES\n",
      "\n",
      "Do you want to continue? (yes/no):  yes\n",
      "Please enter a number:  --10\n"
     ]
    },
    {
     "name": "stdout",
     "output_type": "stream",
     "text": [
      "The absolute value of your number is: 10\n"
     ]
    },
    {
     "name": "stdin",
     "output_type": "stream",
     "text": [
      "\n",
      "Do you want to continue? (yes/no):  10\n",
      "\n",
      "Do you want to continue? (yes/no):  nope\n",
      "\n",
      "Do you want to continue? (yes/no):  y\n",
      "Please enter a number:  ++15\n"
     ]
    },
    {
     "name": "stdout",
     "output_type": "stream",
     "text": [
      "The absolute value of your number is: 15\n"
     ]
    },
    {
     "name": "stdin",
     "output_type": "stream",
     "text": [
      "\n",
      "Do you want to continue? (yes/no):  yes\n",
      "Please enter a number:  5@5\n"
     ]
    },
    {
     "name": "stdout",
     "output_type": "stream",
     "text": [
      "Caught a user-defined <Type 1> exception.\n",
      "\n"
     ]
    },
    {
     "name": "stdin",
     "output_type": "stream",
     "text": [
      "Please re-enter a valid number:  12T\n"
     ]
    },
    {
     "name": "stdout",
     "output_type": "stream",
     "text": [
      "Caught a python exception.\n",
      "\n"
     ]
    },
    {
     "name": "stdin",
     "output_type": "stream",
     "text": [
      "Please re-enter a valid number:  -5b6\n"
     ]
    },
    {
     "name": "stdout",
     "output_type": "stream",
     "text": [
      "Caught a python exception.\n",
      "\n"
     ]
    },
    {
     "name": "stdin",
     "output_type": "stream",
     "text": [
      "Please re-enter a valid number:  bye\n"
     ]
    },
    {
     "name": "stdout",
     "output_type": "stream",
     "text": [
      "Caught a python exception.\n",
      "\n"
     ]
    },
    {
     "name": "stdin",
     "output_type": "stream",
     "text": [
      "Please re-enter a valid number:  123.6\n"
     ]
    },
    {
     "name": "stdout",
     "output_type": "stream",
     "text": [
      "The absolute value of your number is: 123.6\n"
     ]
    },
    {
     "name": "stdin",
     "output_type": "stream",
     "text": [
      "\n",
      "Do you want to continue? (yes/no):  yup\n",
      "\n",
      "Do you want to continue? (yes/no):  yes\n",
      "Please enter a number:  5.a\n"
     ]
    },
    {
     "name": "stdout",
     "output_type": "stream",
     "text": [
      "Caught a python exception.\n",
      "\n"
     ]
    },
    {
     "name": "stdin",
     "output_type": "stream",
     "text": [
      "Please re-enter a valid number:  &\n"
     ]
    },
    {
     "name": "stdout",
     "output_type": "stream",
     "text": [
      "Caught a python exception.\n",
      "\n"
     ]
    },
    {
     "name": "stdin",
     "output_type": "stream",
     "text": [
      "Please re-enter a valid number:  !\n"
     ]
    },
    {
     "name": "stdout",
     "output_type": "stream",
     "text": [
      "Caught a python exception.\n",
      "\n"
     ]
    },
    {
     "name": "stdin",
     "output_type": "stream",
     "text": [
      "Please re-enter a valid number:  -2.0\n"
     ]
    },
    {
     "name": "stdout",
     "output_type": "stream",
     "text": [
      "The absolute value of your number is: 2.0\n"
     ]
    },
    {
     "name": "stdin",
     "output_type": "stream",
     "text": [
      "\n",
      "Do you want to continue? (yes/no):  NO\n",
      "\n",
      "Do you want to continue? (yes/no):  y\n",
      "Please enter a number:  5*b\n"
     ]
    },
    {
     "name": "stdout",
     "output_type": "stream",
     "text": [
      "Caught a user-defined <Type 2> exception.\n",
      "\n"
     ]
    },
    {
     "name": "stdin",
     "output_type": "stream",
     "text": [
      "Please re-enter a valid number:  !$88\n"
     ]
    },
    {
     "name": "stdout",
     "output_type": "stream",
     "text": [
      "Caught a user-defined <Type 1> exception.\n",
      "\n"
     ]
    },
    {
     "name": "stdin",
     "output_type": "stream",
     "text": [
      "Please re-enter a valid number:  !$55apple\n"
     ]
    },
    {
     "name": "stdout",
     "output_type": "stream",
     "text": [
      "Caught a user-defined <Type 2> exception.\n",
      "\n"
     ]
    },
    {
     "name": "stdin",
     "output_type": "stream",
     "text": [
      "Please re-enter a valid number:  6.8\n"
     ]
    },
    {
     "name": "stdout",
     "output_type": "stream",
     "text": [
      "The absolute value of your number is: 6.8\n"
     ]
    },
    {
     "name": "stdin",
     "output_type": "stream",
     "text": [
      "\n",
      "Do you want to continue? (yes/no):  n\n"
     ]
    }
   ],
   "source": [
    "class CustomErrorType_1(Exception):\n",
    "     pass\n",
    "    \n",
    "class CustomErrorType_2(Exception):\n",
    "     pass\n",
    "\n",
    "class PythonException(Exception):\n",
    "    pass\n",
    "    \n",
    "global list_of_numbers\n",
    "\n",
    "def enter_values(reenter=False):\n",
    "    # Predefined Special Characters\n",
    "    special_characters = '\"!@#$%^&*()?_=,<>/\"'\n",
    "    numeric_values = \"1234567890\"\n",
    "    alphabetical_values = \"abcdefghijklmnopqrstuvwxyzABCDEFGHIJKLMNOPQRSTUVWXYZ\"\n",
    "    \n",
    "    #input\n",
    "    if reenter:\n",
    "        list_of_numbers = str(input(\"Please re-enter a valid number: \"))\n",
    "    else:\n",
    "        list_of_numbers = str(input(\"Please enter a number: \"))\n",
    "    list_of_numbers = list_of_numbers.replace(\"++\",\"\") \n",
    "    list_of_numbers = list_of_numbers.replace(\"+\",\"\") \n",
    "    list_of_numbers = list_of_numbers.replace(\"--\",\"-\")    \n",
    "\n",
    "\n",
    "    try:\n",
    "        # If any exception is called instantly return None \n",
    "        \n",
    "        if any(c in alphabetical_values for c in list_of_numbers) and not any(s in special_characters for s in list_of_numbers) and not any(n in numeric_values for n in list_of_numbers) :\n",
    "            # Python exception\n",
    "            raise PythonException\n",
    "\n",
    "        elif any(s in special_characters for s in list_of_numbers) and (not any(c in alphabetical_values for c in list_of_numbers)) and any(n in numeric_values for n in list_of_numbers):\n",
    "            raise CustomErrorType_1\n",
    "\n",
    "        elif any(s in special_characters for s in list_of_numbers) and any(c in alphabetical_values for c in list_of_numbers):\n",
    "            # means string has special character and number in it \n",
    "            raise CustomErrorType_2\n",
    "\n",
    "\n",
    "    except PythonException:\n",
    "        print(\"Caught a python exception.\\n\")\n",
    "        return None, True\n",
    "\n",
    "    except CustomErrorType_1:\n",
    "        print(\"Caught a user-defined <Type 1> exception.\\n\")\n",
    "        return None, True\n",
    "\n",
    "    except CustomErrorType_2:\n",
    "        print(\"Caught a user-defined <Type 2> exception.\\n\")\n",
    "        return None, True\n",
    "    \n",
    "    # For points and float values\n",
    "    try:\n",
    "        # This will replace first . with null character and then we can check if the value is numeric or not\n",
    "        if not list_of_numbers.replace('.', '', 1).lstrip(\"-\").isdigit():\n",
    "            raise PythonException\n",
    "    except:\n",
    "        print(\"Caught a python exception.\\n\")\n",
    "        return None, True\n",
    "      \n",
    "        \n",
    "    return list_of_numbers, False\n",
    "\n",
    "\n",
    "def want_to_continue():\n",
    "    # For continue loop\n",
    "    conti = input(\"\\nDo you want to continue? (yes/no): \")\n",
    "    print(\"\\n\")\n",
    "    if conti == \"no\" or conti == \"n\":\n",
    "        return True\n",
    "    elif conti == \"yes\" or conti == \"y\":\n",
    "        return False\n",
    "    else:\n",
    "        want_to_continue()\n",
    "        \n",
    "reenter = False    \n",
    "def run_loop():\n",
    "    #main function which will only execute if value returned is not None\n",
    "    global reenter\n",
    "    val, reenter = enter_values(reenter)\n",
    "    if val is None:\n",
    "        run_loop()\n",
    "    else:\n",
    "        \n",
    "        if val.isdigit() or (val.replace('-','',1).isdigit() and val.count('-') < 2):\n",
    "            abs_number = abs(int(val))\n",
    "        else:\n",
    "            abs_number = abs(float(val))\n",
    "\n",
    "        print(\"The absolute value of your number is:\", abs_number)\n",
    "        \n",
    "        want_to_conti = want_to_continue()\n",
    "    \n",
    "        if want_to_conti:\n",
    "            return None\n",
    "        elif not want_to_conti:\n",
    "            run_loop()\n",
    "            \n",
    "\n",
    "run_loop()"
   ]
  },
  {
   "cell_type": "code",
   "execution_count": null,
   "id": "1a3390cb-f482-462d-aa1a-deefa09346b2",
   "metadata": {},
   "outputs": [],
   "source": []
  }
 ],
 "metadata": {
  "kernelspec": {
   "display_name": "Python 3 (ipykernel)",
   "language": "python",
   "name": "python3"
  },
  "language_info": {
   "codemirror_mode": {
    "name": "ipython",
    "version": 3
   },
   "file_extension": ".py",
   "mimetype": "text/x-python",
   "name": "python",
   "nbconvert_exporter": "python",
   "pygments_lexer": "ipython3",
   "version": "3.7.8"
  }
 },
 "nbformat": 4,
 "nbformat_minor": 5
}
