{
 "cells": [
  {
   "cell_type": "markdown",
   "id": "113bfaf9-424b-4dd5-ad60-47893c7f70e9",
   "metadata": {},
   "source": [
    "<h1><b>Question 1</b></h1>\n",
    "\n",
    "(4 pts) Write a python program that does the following:\n",
    "1. Reads a ' numbers.txt' file (2 lines at a time) that contains numbers (integers)\n",
    "2. Reads a ' operators.txt' file (I line at a time) that contains operators\n",
    "3. Applies the operator to the two numbers just read\n",
    "4. Displays the result to a file 'output.txt'"
   ]
  },
  {
   "cell_type": "code",
   "execution_count": 35,
   "id": "76716ab8-d9fe-4747-9073-b302f280c49c",
   "metadata": {},
   "outputs": [
    {
     "name": "stdout",
     "output_type": "stream",
     "text": [
      "You can find Output.txt file in same folder\n"
     ]
    }
   ],
   "source": []
  },
  {
   "cell_type": "markdown",
   "id": "45282a9f-726c-4446-8f33-76b1d78b0468",
   "metadata": {},
   "source": [
    "<h1><b>Question 2</b></h1>\n",
    "\n",
    "(4 pts) Write a python program that does the following:\n",
    "1. Reads a ' input.txt' file that contains numbers and sentences\n",
    "2. Computes and displays the average of numerical values to a file 'output. txt'.\n",
    "3. Joins sentences using a'. , (dot+ space) separator, and displays joined text to a file\n",
    "'output.bet'."
   ]
  },
  {
   "cell_type": "code",
   "execution_count": 34,
   "id": "95f90908-49d9-4225-b752-636654c17304",
   "metadata": {},
   "outputs": [
    {
     "name": "stdout",
     "output_type": "stream",
     "text": [
      "You can find Output.txt file in same folder\n"
     ]
    }
   ],
   "source": []
  },
  {
   "cell_type": "markdown",
   "id": "5972aa1f-93ab-4acd-9650-ea06b94cd01e",
   "metadata": {},
   "source": [
    "<h1><b>Question 3</b></h1>\n",
    "(3 pts).\n",
    "\n",
    "We are going to implement the function inverse() that converts list of given integers to its\n",
    "inverse. The inverse or reciprocal of a number xis denoted by f (x) = .!._\n",
    "X\n",
    "Write a program that asks the user to enter a list of integers. The program should:\n",
    "\n",
    "l . Compute the inverse of each element in the list\n",
    "\n",
    "2. Raise and catch an exception if any value entered is non-integer. (the program should not\n",
    "exit).\n",
    "\n",
    "3. Implement your logic within a function. Make exception handling at the level of the\n",
    "function.\n",
    "\n",
    "4. Loop continuously asking the user if they wish to continue (yes/no). If no is entered, the\n",
    "program exits. Other acceptable input is y/n. Anything besides yes/no or y/n (lower-case\n",
    "characters only), should ask the user again for input."
   ]
  },
  {
   "cell_type": "code",
   "execution_count": 9,
   "id": "170c6f7d-d6cc-4470-a298-92098d6862c0",
   "metadata": {},
   "outputs": [
    {
     "name": "stdout",
     "output_type": "stream",
     "text": [
      "\n",
      "Please Enter List of Numbers Seprated by commas:  8\n"
     ]
    },
    {
     "name": "stdout",
     "output_type": "stream",
     "text": [
      "The entry is incorrect. Please enter a list that contains more than 1 element.\n",
      "\n"
     ]
    },
    {
     "name": "stdout",
     "output_type": "stream",
     "text": [
      "\n",
      "Do you want to continue? (yes/no):  N\n",
      "\n",
      "Do you want to continue? (yes/no):  sure\n",
      "\n",
      "Do you want to continue? (yes/no):  Y\n",
      "\n",
      "Do you want to continue? (yes/no):  yes\n",
      "\n",
      "Please Enter List of Numbers Seprated by commas:  a, 4, -1, 0\n"
     ]
    },
    {
     "name": "stdout",
     "output_type": "stream",
     "text": [
      "The entry is :a\n",
      "Oops! Exception <class 'ValueError'> occurred.\n",
      "The entry is : 4\n",
      "The inverse of  4.0  is  0.25\n",
      "The entry is : -1\n",
      "The inverse of  -1.0  is  -1.0\n",
      "The entry is : 0\n",
      "Oops! Exception <class 'ZeroDivisionError'> occurred.\n"
     ]
    },
    {
     "name": "stdout",
     "output_type": "stream",
     "text": [
      "\n",
      "Do you want to continue? (yes/no):  N\n",
      "\n",
      "Do you want to continue? (yes/no):  nah\n",
      "\n",
      "Do you want to continue? (yes/no):  yup\n",
      "\n",
      "Do you want to continue? (yes/no):  sure\n",
      "\n",
      "Do you want to continue? (yes/no):  yes\n",
      "\n",
      "Please Enter List of Numbers Seprated by commas:  2,5\n"
     ]
    },
    {
     "name": "stdout",
     "output_type": "stream",
     "text": [
      "The entry is :2\n",
      "The inverse of  2.0  is  0.5\n",
      "The entry is :5\n",
      "The inverse of  5.0  is  0.2\n"
     ]
    },
    {
     "name": "stdout",
     "output_type": "stream",
     "text": [
      "\n",
      "Do you want to continue? (yes/no):  no\n"
     ]
    }
   ],
   "source": []
  },
  {
   "cell_type": "markdown",
   "id": "aaeb585d-f27d-4ae3-9bee-7fb16a6a019d",
   "metadata": {},
   "source": [
    "<h1><b>Question 4</b></h1>\n",
    "\n",
    "(4 pts) We are going to experiment with the absolute function abs() that converts a number to its\n",
    "absolute value.\n",
    "Write a program that asks the user to enter a number. The program should:\n",
    "\n",
    "1- Catch a python exception if the value entered contains just alphabetic characters (no\n",
    "special characters) e.g. ' abc' or '22abc' . In this case, the user is prompted to re-enter a\n",
    "valid number (the program should not exit).\n",
    "\n",
    "2- Raise and catch a user-defined exceptio,n <Type l> if the value entered contains just\n",
    "special characters (no alphabetic characters) e.g. ' ! *' or '22 ! * ' . In this case, the user is\n",
    "prompted to re-enter a valid number (the program should not exit).\n",
    "    \n",
    "3- Raise and catch a user-defined exception <Type 2> if the value entered is not-numerical\n",
    "(contains both strings and special characters) e.g. ' !$55apple' or ' **&car'. In this\n",
    "case, the user is prompted to re-enter a valid number (the program should not exit).\n",
    "\n",
    "4- Implement your logic within a function. Make exception handling at the level of the\n",
    "function.\n",
    "\n",
    "5- Loop continuously asking the user if they wish to continue (yes/no). If no is entered, the\n",
    "program exits. Other acceptable input is yin. Anything besides yes/no or y/n (lower-case\n",
    "characters only), should ask the user again for input.\n",
    "\n",
    "6- Note: Your code can call the built-in abs() function."
   ]
  },
  {
   "cell_type": "code",
   "execution_count": 36,
   "id": "b21fee7c-6a7d-4522-b2a3-d0310f45fe38",
   "metadata": {},
   "outputs": [
    {
     "name": "stdout",
     "output_type": "stream",
     "text": [
      "Please enter a number:  hello\n"
     ]
    },
    {
     "name": "stdout",
     "output_type": "stream",
     "text": [
      "Caught a python exception.\n",
      "\n"
     ]
    },
    {
     "name": "stdout",
     "output_type": "stream",
     "text": [
      "Please re-enter a valid number:  /!hi\n"
     ]
    },
    {
     "name": "stdout",
     "output_type": "stream",
     "text": [
      "Caught a user-defined <Type 2> exception.\n",
      "\n"
     ]
    },
    {
     "name": "stdout",
     "output_type": "stream",
     "text": [
      "Please re-enter a valid number:  -20\n"
     ]
    },
    {
     "name": "stdout",
     "output_type": "stream",
     "text": [
      "The absolute value of your number is: 20\n"
     ]
    },
    {
     "name": "stdout",
     "output_type": "stream",
     "text": [
      "\n",
      "Do you want to continue? (yes/no):  YES\n",
      "\n",
      "Do you want to continue? (yes/no):  yes\n",
      "Please enter a number:  --10\n"
     ]
    },
    {
     "name": "stdout",
     "output_type": "stream",
     "text": [
      "The absolute value of your number is: 10\n"
     ]
    },
    {
     "name": "stdout",
     "output_type": "stream",
     "text": [
      "\n",
      "Do you want to continue? (yes/no):  10\n",
      "\n",
      "Do you want to continue? (yes/no):  nope\n",
      "\n",
      "Do you want to continue? (yes/no):  y\n",
      "Please enter a number:  ++15\n"
     ]
    },
    {
     "name": "stdout",
     "output_type": "stream",
     "text": [
      "The absolute value of your number is: 15\n"
     ]
    },
    {
     "name": "stdout",
     "output_type": "stream",
     "text": [
      "\n",
      "Do you want to continue? (yes/no):  yes\n",
      "Please enter a number:  5@5\n"
     ]
    },
    {
     "name": "stdout",
     "output_type": "stream",
     "text": [
      "Caught a user-defined <Type 1> exception.\n",
      "\n"
     ]
    },
    {
     "name": "stdout",
     "output_type": "stream",
     "text": [
      "Please re-enter a valid number:  12T\n"
     ]
    },
    {
     "name": "stdout",
     "output_type": "stream",
     "text": [
      "Caught a python exception.\n",
      "\n"
     ]
    },
    {
     "name": "stdout",
     "output_type": "stream",
     "text": [
      "Please re-enter a valid number:  -5b6\n"
     ]
    },
    {
     "name": "stdout",
     "output_type": "stream",
     "text": [
      "Caught a python exception.\n",
      "\n"
     ]
    },
    {
     "name": "stdout",
     "output_type": "stream",
     "text": [
      "Please re-enter a valid number:  bye\n"
     ]
    },
    {
     "name": "stdout",
     "output_type": "stream",
     "text": [
      "Caught a python exception.\n",
      "\n"
     ]
    },
    {
     "name": "stdout",
     "output_type": "stream",
     "text": [
      "Please re-enter a valid number:  123.6\n"
     ]
    },
    {
     "name": "stdout",
     "output_type": "stream",
     "text": [
      "The absolute value of your number is: 123.6\n"
     ]
    },
    {
     "name": "stdout",
     "output_type": "stream",
     "text": [
      "\n",
      "Do you want to continue? (yes/no):  yup\n",
      "\n",
      "Do you want to continue? (yes/no):  yes\n",
      "Please enter a number:  5.a\n"
     ]
    },
    {
     "name": "stdout",
     "output_type": "stream",
     "text": [
      "Caught a python exception.\n",
      "\n"
     ]
    },
    {
     "name": "stdout",
     "output_type": "stream",
     "text": [
      "Please re-enter a valid number:  &\n"
     ]
    },
    {
     "name": "stdout",
     "output_type": "stream",
     "text": [
      "Caught a python exception.\n",
      "\n"
     ]
    },
    {
     "name": "stdout",
     "output_type": "stream",
     "text": [
      "Please re-enter a valid number:  !\n"
     ]
    },
    {
     "name": "stdout",
     "output_type": "stream",
     "text": [
      "Caught a python exception.\n",
      "\n"
     ]
    },
    {
     "name": "stdout",
     "output_type": "stream",
     "text": [
      "Please re-enter a valid number:  -2.0\n"
     ]
    },
    {
     "name": "stdout",
     "output_type": "stream",
     "text": [
      "The absolute value of your number is: 2.0\n"
     ]
    },
    {
     "name": "stdout",
     "output_type": "stream",
     "text": [
      "\n",
      "Do you want to continue? (yes/no):  NO\n",
      "\n",
      "Do you want to continue? (yes/no):  y\n",
      "Please enter a number:  5*b\n"
     ]
    },
    {
     "name": "stdout",
     "output_type": "stream",
     "text": [
      "Caught a user-defined <Type 2> exception.\n",
      "\n"
     ]
    },
    {
     "name": "stdout",
     "output_type": "stream",
     "text": [
      "Please re-enter a valid number:  !$88\n"
     ]
    },
    {
     "name": "stdout",
     "output_type": "stream",
     "text": [
      "Caught a user-defined <Type 1> exception.\n",
      "\n"
     ]
    },
    {
     "name": "stdout",
     "output_type": "stream",
     "text": [
      "Please re-enter a valid number:  !$55apple\n"
     ]
    },
    {
     "name": "stdout",
     "output_type": "stream",
     "text": [
      "Caught a user-defined <Type 2> exception.\n",
      "\n"
     ]
    },
    {
     "name": "stdout",
     "output_type": "stream",
     "text": [
      "Please re-enter a valid number:  6.8\n"
     ]
    },
    {
     "name": "stdout",
     "output_type": "stream",
     "text": [
      "The absolute value of your number is: 6.8\n"
     ]
    },
    {
     "name": "stdout",
     "output_type": "stream",
     "text": [
      "\n",
      "Do you want to continue? (yes/no):  n\n"
     ]
    }
   ],
   "source": []
  },
  {
   "cell_type": "code",
   "execution_count": null,
   "id": "1a3390cb-f482-462d-aa1a-deefa09346b2",
   "metadata": {},
   "outputs": [],
   "source": []
  }
 ],
 "metadata": {
  "kernelspec": {
   "display_name": "Python 3 (ipykernel)",
   "language": "python",
   "name": "python3"
  },
  "language_info": {
   "codemirror_mode": {
    "name": "ipython",
    "version": 3
   },
   "file_extension": ".py",
   "mimetype": "text/x-python",
   "name": "python",
   "nbconvert_exporter": "python",
   "pygments_lexer": "ipython3",
   "version": "3.10.6"
  }
 },
 "nbformat": 4,
 "nbformat_minor": 5
}
